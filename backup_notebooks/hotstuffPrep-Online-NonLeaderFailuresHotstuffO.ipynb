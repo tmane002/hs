{
 "cells": [
  {
   "cell_type": "code",
   "execution_count": null,
   "id": "204aa693",
   "metadata": {},
   "outputs": [],
   "source": [
    "import time\n",
    "import re\n",
    "import pylab as pl\n",
    "import numpy as np\n",
    "import pylab as pl\n",
    "\n",
    "from datetime import datetime, timedelta\n",
    "\n",
    "import subprocess\n",
    "\n",
    "import os\n",
    "import pandas as pd\n",
    "\n",
    "\n",
    "\n",
    "from joblib import Parallel, delayed\n",
    "import shutil\n",
    "\n",
    "\n",
    "from concurrent.futures import ThreadPoolExecutor, ProcessPoolExecutor"
   ]
  },
  {
   "cell_type": "code",
   "execution_count": null,
   "id": "3e2458a6",
   "metadata": {},
   "outputs": [],
   "source": [
    "# time.sleep(120)"
   ]
  },
  {
   "cell_type": "code",
   "execution_count": null,
   "id": "598e1530",
   "metadata": {},
   "outputs": [],
   "source": [
    "def str2datetime(s):\n",
    "    parts = s.split('.')\n",
    "    dt = datetime.strptime(parts[0], \"%Y-%m-%d %H:%M:%S\")\n",
    "    return dt.replace(microsecond=int(parts[1]))\n",
    "\n",
    "\n",
    "def remove_outliers(x, outlierConstant = 1.5):\n",
    "    a = np.array(x)\n",
    "    upper_quartile = np.percentile(a, 75)\n",
    "    lower_quartile = np.percentile(a, 25)\n",
    "    IQR = (upper_quartile - lower_quartile) * outlierConstant\n",
    "    quartileSet = (lower_quartile - IQR, upper_quartile + IQR)\n",
    "    resultList = []\n",
    "    removedList = []\n",
    "    for y in a.tolist():\n",
    "        if y >= quartileSet[0] and y <= quartileSet[1]:\n",
    "            resultList.append(y)\n",
    "        else:\n",
    "            removedList.append(y)\n",
    "    return (resultList, removedList)\n",
    "def getThroughput(experiment):\n",
    "\n",
    "    result = subprocess.check_output('cat ../'+experiment+'/nohup_client_*', shell=True)\n",
    "\n",
    "\n",
    "    result = result.decode(\"utf-8\") \n",
    "\n",
    "    lines = result.split('\\n')\n",
    "\n",
    "#     commit_pat = re.compile('([^[].*) \\[hotstuff info\\] ([0-9.]*)$')\n",
    "    commit_pat = re.compile('([^[].*) \\[hotstuff info\\] got*')\n",
    "\n",
    "    Times = []\n",
    "    lats = []\n",
    "\n",
    "    for line in lines:\n",
    "        m = commit_pat.match(line)\n",
    "        if m:\n",
    "            try:\n",
    "\n",
    "                time_item = float((line.split(' ')[1]).split(':')[0])*3600 + float((line.split(' ')[1]).split(':')[1])*60 + \\\n",
    "                float((line.split(' ')[1]).split(':')[2])\n",
    "                Times.append(time_item)        \n",
    "\n",
    "                lats.append(float(m.group(2)))\n",
    "            except:\n",
    "                continue\n",
    "\n",
    "\n",
    "    begin_time = None\n",
    "    values = []\n",
    "    interval = 1\n",
    "    cnt = 0\n",
    "    Times.sort()\n",
    "    for timestamp in Times:\n",
    "        if begin_time is None:\n",
    "            begin_time = timestamp\n",
    "            next_begin_time = timestamp +interval\n",
    "\n",
    "        while timestamp >= next_begin_time:\n",
    "            begin_time = next_begin_time\n",
    "            next_begin_time += interval\n",
    "            values.append(cnt)\n",
    "            cnt = 0\n",
    "        cnt += 1\n",
    "    values.append(cnt)\n",
    "    \n",
    "#     lats, _ = remove_outliers(lats)\n",
    "#     print(len(values))\n",
    "\n",
    "\n",
    "    return np.arange(len(values))*interval,np.array(values)/interval, lats"
   ]
  },
  {
   "cell_type": "code",
   "execution_count": null,
   "id": "81cd4b40",
   "metadata": {},
   "outputs": [],
   "source": [
    "# p = subprocess.Popen(['../../hotstuff-keygen', ' --num', '--n', str(4)],\n",
    "#                      stdout=subprocess.PIPE, stderr=open(os.devnull, 'w'))"
   ]
  },
  {
   "cell_type": "code",
   "execution_count": null,
   "id": "afa86275",
   "metadata": {},
   "outputs": [],
   "source": [
    "# print([[t[4:] for t in l.decode('ascii').split()] for l in p.stdout])\n",
    "# # [[t for t in l.decode('ascii').split()] for l in p.stdout.read()]"
   ]
  },
  {
   "cell_type": "code",
   "execution_count": null,
   "id": "1571cd99",
   "metadata": {},
   "outputs": [],
   "source": [
    "# os.system('echo 3108 | sudo -S sh job_mini.sh '+ 'test')\n"
   ]
  },
  {
   "cell_type": "code",
   "execution_count": null,
   "id": "ba9edcbb",
   "metadata": {},
   "outputs": [],
   "source": [
    "# regions= ['us-west-1', 'ap-south-1']\n",
    "# regions= ['ap-south-1', 'eu-central-1', 'us-west-2']\n",
    "# regions= ['ap-south-1', 'eu-central-1']\n",
    "regions= ['ap-south-1']\n",
    "\n",
    "\n",
    "instance_type = 't2.small'"
   ]
  },
  {
   "cell_type": "code",
   "execution_count": null,
   "id": "c5ccf5e2",
   "metadata": {},
   "outputs": [],
   "source": [
    "\n",
    "# Node config for remote view change and leader/non leader failures\n"
   ]
  },
  {
   "cell_type": "code",
   "execution_count": null,
   "id": "27f94375",
   "metadata": {},
   "outputs": [],
   "source": [
    "%%file node_info.csv\n",
    "node_id,region,ServerOrClientregion,cluster_id,key_file,clientID,ServerID, PublicIp\n",
    "0, 'ap-south-1', 0, 0, 'FKA.pem', -1, 0,\n",
    "1, 'ap-south-1', 0, 0, 'FKA.pem', -1, 1,\n",
    "2, 'ap-south-1', 0, 0, 'FKA.pem', -1, 2,\n",
    "3, 'ap-south-1', 0, 0, 'FKA.pem', -1, 3,\n",
    "4, 'ap-south-1', 0, 0, 'FKA.pem', -1, 4,\n",
    "5, 'ap-south-1', 0, 0, 'FKA.pem', -1, 5,\n",
    "6, 'ap-south-1', 0, 0, 'FKA.pem', -1, 6,\n",
    "7, 'ap-south-1', 0, 0, 'FKA.pem', -1, 7,\n",
    "8, 'ap-south-1', 0, 0, 'FKA.pem', -1, 8,\n",
    "9, 'ap-south-1', 0, 0, 'FKA.pem', -1, 9,\n",
    "10, 'ap-south-1', 0, 1, 'FKA.pem', -1, 10,\n",
    "11, 'ap-south-1', 0, 1, 'FKA.pem', -1, 11,\n",
    "12, 'ap-south-1', 0, 1, 'FKA.pem', -1, 12,\n",
    "13, 'ap-south-1', 0, 1, 'FKA.pem', -1, 13,\n",
    "14, 'ap-south-1', 0, 1, 'FKA.pem', -1, 14,\n",
    "15, 'ap-south-1', 0, 1, 'FKA.pem', -1, 15,\n",
    "16, 'ap-south-1', 0, 1, 'FKA.pem', -1, 16,\n",
    "17, 'ap-south-1', 0, 1, 'FKA.pem', -1, 17,\n",
    "18, 'ap-south-1', 0, 1, 'FKA.pem', -1, 18,\n",
    "19, 'ap-south-1', 0, 1, 'FKA.pem', -1, 19,\n",
    "20, 'ap-south-1', 1, -1, 'FKA.pem', 0, -1,\n",
    "21, 'ap-south-1', 1, -1, 'FKA.pem', 1, -1,\n",
    "\n"
   ]
  },
  {
   "cell_type": "code",
   "execution_count": null,
   "id": "c282ff2f",
   "metadata": {},
   "outputs": [],
   "source": [
    "# %%file node_info.csv\n",
    "# node_id,region,ServerOrClientregion,cluster_id,key_file,clientID,ServerID, PublicIp\n",
    "# 0, 'ap-south-1', 0, 0, 'FKA.pem', -1, 0,\n",
    "# 1, 'ap-south-1', 0, 0, 'FKA.pem', -1, 1,\n",
    "# 2, 'ap-south-1', 0, 0, 'FKA.pem', -1, 2,\n",
    "# 3, 'ap-south-1', 0, 0, 'FKA.pem', -1, 3,\n",
    "# 4, 'ap-south-1', 0, 0, 'FKA.pem', -1, 4,\n",
    "# 5, 'ap-south-1', 0, 0, 'FKA.pem', -1, 5,\n",
    "# 6, 'ap-south-1', 0, 0, 'FKA.pem', -1, 6,\n",
    "# 7, 'ap-south-1', 0, 0, 'FKA.pem', -1, 7,\n",
    "# 8, 'ap-south-1', 0, 1, 'FKA.pem', -1, 8,\n",
    "# 9, 'ap-south-1', 0, 1, 'FKA.pem', -1, 9,\n",
    "# 10, 'ap-south-1', 0, 1, 'FKA.pem', -1, 10,\n",
    "# 11, 'ap-south-1', 0, 1, 'FKA.pem', -1, 11,\n",
    "# 12, 'ap-south-1', 0, 1, 'FKA.pem', -1, 12,\n",
    "# 13, 'ap-south-1', 0, 1, 'FKA.pem', -1, 13,\n",
    "# 14, 'ap-south-1', 0, 1, 'FKA.pem', -1, 14,\n",
    "# 15, 'ap-south-1', 0, 1, 'FKA.pem', -1, 15,\n",
    "# 16, 'ap-south-1', 1, -1, 'FKA.pem', 0, -1,\n",
    "# 17, 'ap-south-1', 1, -1, 'FKA.pem', 1, -1,\n",
    "# 18, 'ap-south-1', 1, -1, 'FKA.pem', 2, -1,\n",
    "# 19, 'ap-south-1', 1, -1, 'FKA.pem', 3, -1,\n",
    "# 20, 'eu-central-1', 0, 2, 'FKE.pem', -1, 16,\n",
    "# 21, 'eu-central-1', 0, 2, 'FKE.pem', -1, 17,\n",
    "# 22, 'eu-central-1', 0, 2, 'FKE.pem', -1, 18,\n",
    "# 23, 'eu-central-1', 0, 2, 'FKE.pem', -1, 19,\n",
    "# 24, 'eu-central-1', 0, 2, 'FKE.pem', -1, 20,\n",
    "# 25, 'eu-central-1', 0, 2, 'FKE.pem', -1, 21,\n",
    "# 26, 'eu-central-1', 0, 2, 'FKE.pem', -1, 22,\n",
    "# 27, 'eu-central-1', 0, 2, 'FKE.pem', -1, 23,\n",
    "# 28, 'eu-central-1', 0, 3, 'FKE.pem', -1, 24,\n",
    "# 29, 'eu-central-1', 0, 3, 'FKE.pem', -1, 25,\n",
    "# 30, 'eu-central-1', 0, 3, 'FKE.pem', -1, 26,\n",
    "# 31, 'eu-central-1', 0, 3, 'FKE.pem', -1, 27,\n",
    "# 32, 'eu-central-1', 0, 3, 'FKE.pem', -1, 28,\n",
    "# 33, 'eu-central-1', 0, 3, 'FKE.pem', -1, 29,\n",
    "# 34, 'eu-central-1', 0, 3, 'FKE.pem', -1, 30,\n",
    "# 35, 'eu-central-1', 0, 3, 'FKE.pem', -1, 31,\n",
    "# 36, 'eu-central-1', 1, -1, 'FKE.pem', 4, -1,\n",
    "# 37, 'eu-central-1', 1, -1, 'FKE.pem', 5, -1,\n",
    "# 38, 'eu-central-1', 1, -1, 'FKE.pem', 6, -1,\n",
    "# 39, 'eu-central-1', 1, -1, 'FKE.pem', 7, -1,\n",
    "# 40, 'us-west-2', 0, 4, 'FKU2.pem', -1, 32,\n",
    "# 41, 'us-west-2', 0, 4, 'FKU2.pem', -1, 33,\n",
    "# 42, 'us-west-2', 0, 4, 'FKU2.pem', -1, 34,\n",
    "# 43, 'us-west-2', 0, 4, 'FKU2.pem', -1, 35,\n",
    "# 44, 'us-west-2', 0, 4, 'FKU2.pem', -1, 36,\n",
    "# 45, 'us-west-2', 0, 4, 'FKU2.pem', -1, 37,\n",
    "# 46, 'us-west-2', 0, 4, 'FKU2.pem', -1, 38,\n",
    "# 47, 'us-west-2', 0, 4, 'FKU2.pem', -1, 39,\n",
    "# 48, 'us-west-2', 0, 5, 'FKU2.pem', -1, 40,\n",
    "# 49, 'us-west-2', 0, 5, 'FKU2.pem', -1, 41,\n",
    "# 50, 'us-west-2', 0, 5, 'FKU2.pem', -1, 42,\n",
    "# 51, 'us-west-2', 0, 5, 'FKU2.pem', -1, 43,\n",
    "# 52, 'us-west-2', 0, 5, 'FKU2.pem', -1, 44,\n",
    "# 53, 'us-west-2', 0, 5, 'FKU2.pem', -1, 45,\n",
    "# 54, 'us-west-2', 0, 5, 'FKU2.pem', -1, 46,\n",
    "# 55, 'us-west-2', 0, 5, 'FKU2.pem', -1, 47,\n",
    "# 56, 'us-west-2', 1, -1, 'FKU2.pem', 8, -1,\n",
    "# 57, 'us-west-2', 1, -1, 'FKU2.pem', 9, -1,\n",
    "# 58, 'us-west-2', 1, -1, 'FKU2.pem', 10, -1,\n",
    "# 59, 'us-west-2', 1, -1, 'FKU2.pem', 11, -1,"
   ]
  },
  {
   "cell_type": "code",
   "execution_count": null,
   "id": "394a466f",
   "metadata": {},
   "outputs": [],
   "source": [
    "df =pd.read_csv('node_info.csv')\n",
    "\n",
    "node_info_dict = df.to_dict()\n",
    "\n",
    "node_info_dict"
   ]
  },
  {
   "cell_type": "code",
   "execution_count": null,
   "id": "4d9213ff",
   "metadata": {},
   "outputs": [],
   "source": [
    "\n",
    "# instance_type2 = 'c4.4xlarge'\n",
    "# redirect2 = '>>'\n",
    "\n",
    "for index, region  in enumerate(regions):\n",
    "    \n",
    "    print(index, region)\n",
    "    redirect = '>>'\n",
    "    if index==0:\n",
    "        redirect = '>'\n",
    "        \n",
    "    os.system(\"aws --region \"+region+\" ec2 describe-instances  --filter Name=instance-type,Values=\"+\\\n",
    "              instance_type+\" --filter Name=instance-state-name,Values=running --query 'Reservations[*].Instances[*].[PublicIpAddress]' --output text \"+\\\n",
    "              redirect+\" all_internal_ips\")\n",
    "    \n",
    "    \n",
    "    print(\"aws --region \"+region+\" ec2 describe-instances  --filter Name=instance-type,Values=\"+\\\n",
    "              instance_type+\" --filter Name=instance-state-name,Values=running --query 'Reservations[*].Instances[*].[PublicIpAddress]' --output text \"+\\\n",
    "              redirect+\" all_internal_ips\")\n",
    "\n",
    "\n",
    "    os.system(\"aws --region \"+region+\" ec2 describe-instances  --filter Name=instance-type,Values=\"+\\\n",
    "          instance_type+\" --filter Name=instance-state-name,Values=running --query 'Reservations[*].Instances[*].[PublicIpAddress]' --output text \"+\\\n",
    "          redirect+\" all_external_ips\")\n",
    "    \n",
    "    \n",
    "    print(\"aws --region \"+region+\" ec2 describe-instances  --filter Name=instance-type,Values=\"+\\\n",
    "          instance_type+\" --filter Name=instance-state-name,Values=running --query 'Reservations[*].Instances[*].[PublicIpAddress]' --output text \"+\\\n",
    "          redirect+\" all_external_ips\")\n",
    "    \n",
    "    \n",
    "\n",
    "#     os.system(\"aws --region \"+region+\" ec2 describe-instances  --filter Name=instance-type,Values=\"+\\\n",
    "#           instance_type2+\" --filter Name=instance-state-name,Values=running --query 'Reservations[*].Instances[*].[PublicIpAddress]' --output text \"+\\\n",
    "#           redirect2+\" all_internal_ips\")\n",
    "\n",
    "\n",
    "\n",
    "#     os.system(\"aws --region \"+region+\" ec2 describe-instances  --filter Name=instance-type,Values=\"+\\\n",
    "#           instance_type2+\" --filter Name=instance-state-name,Values=running --query 'Reservations[*].Instances[*].[PublicIpAddress]' --output text \"+\\\n",
    "#           redirect2+\" all_external_ips\")\n",
    "    \n",
    "    \n",
    "    \n",
    "    \n",
    "    "
   ]
  },
  {
   "cell_type": "code",
   "execution_count": null,
   "id": "21a15de4",
   "metadata": {},
   "outputs": [],
   "source": [
    "!cat all_internal_ips\n",
    "! echo \" \" \n",
    "# !cat all_external_ips"
   ]
  },
  {
   "cell_type": "code",
   "execution_count": null,
   "id": "85f0ce83",
   "metadata": {},
   "outputs": [],
   "source": []
  },
  {
   "cell_type": "code",
   "execution_count": null,
   "id": "8d89b26a",
   "metadata": {},
   "outputs": [],
   "source": [
    "f = open('all_external_ips', \"r\")\n",
    "data1 = [line.strip() for line in f.readlines()]\n",
    "\n",
    "data1 = [x for x in data1 if x!='None']"
   ]
  },
  {
   "cell_type": "code",
   "execution_count": null,
   "id": "8c19caa4",
   "metadata": {},
   "outputs": [],
   "source": [
    "f = open('all_internal_ips', \"r\")\n",
    "data2 = [line.strip() for line in f.readlines()]\n",
    "\n",
    "data2 = [x for x in data2 if x!='None']"
   ]
  },
  {
   "cell_type": "code",
   "execution_count": null,
   "id": "8b1a684d",
   "metadata": {},
   "outputs": [],
   "source": []
  },
  {
   "cell_type": "code",
   "execution_count": null,
   "id": "d3420e79",
   "metadata": {},
   "outputs": [],
   "source": [
    "data2, len(data2)"
   ]
  },
  {
   "cell_type": "code",
   "execution_count": null,
   "id": "de4461fa",
   "metadata": {},
   "outputs": [],
   "source": [
    "data = []"
   ]
  },
  {
   "cell_type": "code",
   "execution_count": null,
   "id": "262f4c25",
   "metadata": {},
   "outputs": [],
   "source": [
    "# for i in range(len(data1)):\n",
    "#     if data1[i]!='None':\n",
    "# #         data.append(data1[i] + '    ' + data2[i])\n",
    "#         data.append('127.0.0.1'+ '    ' + '127.0.0.1')\n",
    "    \n",
    "\n",
    "skip_instances = 0\n",
    "    \n",
    "for i in range(skip_instances, len(data1)):\n",
    "    if data1[i]!='None':\n",
    "        data.append(data1[i] + '    ' + data2[i])\n",
    "#         data.append('127.0.0.1'+ '    ' + '127.0.0.1')"
   ]
  },
  {
   "cell_type": "code",
   "execution_count": null,
   "id": "7ae5275c",
   "metadata": {},
   "outputs": [],
   "source": [
    "data, len(data)"
   ]
  },
  {
   "cell_type": "code",
   "execution_count": null,
   "id": "d48885a4",
   "metadata": {},
   "outputs": [],
   "source": [
    "for index, item in enumerate(data1):\n",
    "    if 'publicIP' not in node_info_dict.keys():\n",
    "        node_info_dict['publicIP'] = {}\n",
    "\n",
    "        \n",
    "    node_info_dict['publicIP'][index] = item \n",
    "    \n",
    "    \n",
    "for index, item in enumerate(data2):\n",
    "    if 'privateIP' not in node_info_dict.keys():\n",
    "        node_info_dict['privateIP'] = {}\n",
    "        \n",
    "    node_info_dict['privateIP'][index] = item \n",
    "    \n",
    "    \n",
    "    \n",
    "for index, item in enumerate(data):\n",
    "    if 'publicAndprivateIP' not in node_info_dict.keys():\n",
    "        node_info_dict['publicAndprivateIP'] = {}\n",
    "        \n",
    "    node_info_dict['publicAndprivateIP'][index] = item "
   ]
  },
  {
   "cell_type": "code",
   "execution_count": null,
   "id": "99bcabde",
   "metadata": {},
   "outputs": [],
   "source": [
    "node_info_dict"
   ]
  },
  {
   "cell_type": "code",
   "execution_count": null,
   "id": "9725fcc6",
   "metadata": {},
   "outputs": [],
   "source": [
    "for item in node_info_dict['publicAndprivateIP']:\n",
    "    print(node_info_dict['publicAndprivateIP'][item])"
   ]
  },
  {
   "cell_type": "code",
   "execution_count": null,
   "id": "a5230100",
   "metadata": {},
   "outputs": [],
   "source": [
    "with open('replicas.txt', 'w') as f:\n",
    "    \n",
    "    for item in node_info_dict['publicAndprivateIP']:\n",
    "        \n",
    "        if (node_info_dict['ServerOrClientregion'][item] ==0):\n",
    "            f.write(\"%s\\n\" % node_info_dict['publicAndprivateIP'][item])\n",
    "    "
   ]
  },
  {
   "cell_type": "code",
   "execution_count": null,
   "id": "25128bb4",
   "metadata": {},
   "outputs": [],
   "source": [
    "node_info_dict['ServerOrClientregion']"
   ]
  },
  {
   "cell_type": "code",
   "execution_count": null,
   "id": "4bff4408",
   "metadata": {},
   "outputs": [],
   "source": [
    "! cat replicas.txt"
   ]
  },
  {
   "cell_type": "code",
   "execution_count": null,
   "id": "386372ca",
   "metadata": {},
   "outputs": [],
   "source": [
    "with open('clients.txt', 'w') as f:\n",
    "    \n",
    "    for item in node_info_dict['publicIP']:\n",
    "        \n",
    "        if (node_info_dict['ServerOrClientregion'][item] ==1):\n",
    "            f.write(\"%s\\n\" % node_info_dict['publicIP'][item])"
   ]
  },
  {
   "cell_type": "code",
   "execution_count": null,
   "id": "1a88d75e",
   "metadata": {},
   "outputs": [],
   "source": [
    "os.system('cat clients.txt')"
   ]
  },
  {
   "cell_type": "code",
   "execution_count": null,
   "id": "330d640a",
   "metadata": {},
   "outputs": [],
   "source": [
    "node_info_dict"
   ]
  },
  {
   "cell_type": "code",
   "execution_count": null,
   "id": "b20ad0eb",
   "metadata": {},
   "outputs": [],
   "source": [
    "def setup_remote(i):\n",
    "\n",
    "    ip = node_info_dict['publicIP'][i] \n",
    "    if ip!='None':\n",
    "        current = (ip.split('.'))\n",
    "        command = 'echo 3108 | sudo -S ssh -o StrictHostKeyChecking=no -i /home/tejas/Documents/'+node_info_dict['key_file'][i].strip()[1:-1]+' '+'ubuntu@ec2-'+str(current[0])+'-'\\\n",
    "                      +str(current[1])+'-'+str(current[2])+'-'+str(current[3])+'.'+node_info_dict['region'][i].strip()[1:-1]+'.compute.amazonaws.com -T \"sudo apt -y update;sudo apt -y install build-essential; sudo apt -y install autoconf libtool libssl-dev libuv1-dev cmake pkg-config cmake-data make; sudo rm -r hotstuffO; git clone https://github.com/tmane002/hotstuffO.git;\"'\n",
    "        print(command)\n",
    "        \n",
    "        output = os.system(command)\n",
    "        print(output)\n",
    "        \n",
    "        \n",
    "def setup_remote2(i):\n",
    "\n",
    "    ip = node_info_dict['publicIP'][i] \n",
    "    if ip!='None':\n",
    "        current = (ip.split('.'))\n",
    "        command = 'echo 3108 | sudo -S ssh -o StrictHostKeyChecking=no -i /home/tejas/Documents/'+node_info_dict['key_file'][i].strip()[1:-1]+' '+'ubuntu@ec2-'+str(current[0])+'-'\\\n",
    "                      +str(current[1])+'-'+str(current[2])+'-'+str(current[3])+'.'+node_info_dict['region'][i].strip()[1:-1]+'.compute.amazonaws.com -T \" cd hotstuffO; git pull;\"'\n",
    "#         print(command)\n",
    "        \n",
    "        output = os.system(command)\n",
    "        print(output)\n",
    "        \n",
    "        \n",
    "def git_pull_remote(i):\n",
    "\n",
    "    ip = node_info_dict['publicIP'][i] \n",
    "    if ip!='None':\n",
    "        current = (ip.split('.'))\n",
    "        command = 'ssh -o StrictHostKeyChecking=no -i /home/tejas/Documents/'+node_info_dict['key_file'][i].strip()[1:-1]+' '+'ubuntu@ec2-'+str(current[0])+'-'\\\n",
    "                      +str(current[1])+'-'+str(current[2])+'-'+str(current[3])+'.'+node_info_dict['region'][i].strip()[1:-1]+'.compute.amazonaws.com -T \"cd hotstuffO; sudo git pull;\"'\n",
    "\n",
    "        \n",
    "        output = subprocess.getoutput(command)\n",
    "        print(output)\n",
    "\n",
    "\n",
    "        \n",
    "        \n",
    "def run_join_node_remote(i):\n",
    "    ip = node_info_dict['publicIP'][i] \n",
    "    if ip!='None' and( ip == nodeIps[-1]):\n",
    "        \n",
    "        current = (ip.split('.'))\n",
    "        command = 'ssh  -o StrictHostKeyChecking=no -i /home/tejas/Documents/'+node_info_dict['key_file'][i].strip()[1:-1]+' '+'ubuntu@ec2-'+str(current[0])+'-'\\\n",
    "              +str(current[1])+'-'+str(current[2])+'-'+str(current[3])+'.'+node_info_dict['region'][i].strip()[1:-1]+'.compute.amazonaws.com -T \"cd hotstuffO; sudo nohup ./examples/hotstuff-app --conf hotstuff.gen-sec'+str(i)+'.conf >../nohup.out 2>&1 &\"'\n",
    "        \n",
    "        print(command)\n",
    "        os.system(command)\n",
    "        \n",
    "        \n",
    "        \n",
    "def run_join_node1_remote(i):\n",
    "    ip = node_info_dict['publicIP'][i] \n",
    "    if ip!='None' and( ip == nodeIps[-1]):\n",
    "        \n",
    "        current = (ip.split('.'))\n",
    "        command = 'ssh  -o StrictHostKeyChecking=no -i /home/tejas/Documents/'+node_info_dict['key_file'][i].strip()[1:-1]+' '+'ubuntu@ec2-'+str(current[0])+'-'\\\n",
    "              +str(current[1])+'-'+str(current[2])+'-'+str(current[3])+'.'+node_info_dict['region'][i].strip()[1:-1]+'.compute.amazonaws.com -T \"cd hotstuffO; sudo nohup ./examples/hotstuff-app --conf hotstuff.gen-sec'+str(i)+'.conf >../nohup.out 2>&1 &\"'\n",
    "        \n",
    "        print(command)\n",
    "        os.system(command)\n",
    "        \n",
    "def run_join_node2_remote(i):\n",
    "    ip = node_info_dict['publicIP'][i] \n",
    "    if ip!='None' and( ip == nodeIps[-2]):\n",
    "        \n",
    "        current = (ip.split('.'))\n",
    "        command = 'ssh  -o StrictHostKeyChecking=no -i /home/tejas/Documents/'+node_info_dict['key_file'][i].strip()[1:-1]+' '+'ubuntu@ec2-'+str(current[0])+'-'\\\n",
    "              +str(current[1])+'-'+str(current[2])+'-'+str(current[3])+'.'+node_info_dict['region'][i].strip()[1:-1]+'.compute.amazonaws.com -T \"cd hotstuffO; sudo nohup ./examples/hotstuff-app --conf hotstuff.gen-sec'+str(i)+'.conf >../nohup.out 2>&1 &\"'\n",
    "        \n",
    "        print(command)\n",
    "        os.system(command)\n",
    "        \n",
    "def run_join_node3_remote(i):\n",
    "    ip = node_info_dict['publicIP'][i] \n",
    "    if ip!='None' and( ip == nodeIps[-3]):\n",
    "        \n",
    "        current = (ip.split('.'))\n",
    "        command = 'ssh  -o StrictHostKeyChecking=no -i /home/tejas/Documents/'+node_info_dict['key_file'][i].strip()[1:-1]+' '+'ubuntu@ec2-'+str(current[0])+'-'\\\n",
    "              +str(current[1])+'-'+str(current[2])+'-'+str(current[3])+'.'+node_info_dict['region'][i].strip()[1:-1]+'.compute.amazonaws.com -T \"cd hotstuffO; sudo nohup ./examples/hotstuff-app --conf hotstuff.gen-sec'+str(i)+'.conf >../nohup.out 2>&1 &\"'\n",
    "        \n",
    "        print(command)\n",
    "        os.system(command)\n",
    "\n",
    "        \n",
    "\n",
    "def kill_nodes_remote(i):\n",
    "    ip = node_info_dict['publicIP'][i] \n",
    "    \n",
    "    if ip!='None':\n",
    "        current = (ip.split('.'))\n",
    "        command = 'ssh -o StrictHostKeyChecking=no -i /home/tejas/Documents/'+node_info_dict['key_file'][i].strip()[1:-1]+' '+'ubuntu@ec2-'+str(current[0])+'-'\\\n",
    "              +str(current[1])+'-'+str(current[2])+'-'+str(current[3])+'.'+node_info_dict['region'][i].strip()[1:-1]+'.compute.amazonaws.com -T \"cd hotstuffO; sudo killall hotstuff-app; sudo killall hotstuff-client;\"'\n",
    "        \n",
    "        output = subprocess.getoutput(command)\n",
    "        print(output)\n",
    "\n",
    "        \n",
    "\n",
    "def clean_nodes_remote(i):\n",
    "    ip = node_info_dict['publicIP'][i] \n",
    "    \n",
    "    if ip!='None':\n",
    "        current = (ip.split('.'))\n",
    "        command = 'ssh -o StrictHostKeyChecking=no -i /home/tejas/Documents/'+node_info_dict['key_file'][i].strip()[1:-1]+' '+'ubuntu@ec2-'+str(current[0])+'-'\\\n",
    "              +str(current[1])+'-'+str(current[2])+'-'+str(current[3])+'.'+node_info_dict['region'][i].strip()[1:-1]+'.compute.amazonaws.com -T \"sudo rm -f nohup.out;\"'\n",
    "        \n",
    "        print(command)\n",
    "        os.system(command)"
   ]
  },
  {
   "cell_type": "code",
   "execution_count": null,
   "id": "7da469d6",
   "metadata": {},
   "outputs": [],
   "source": []
  },
  {
   "cell_type": "code",
   "execution_count": null,
   "id": "b30d7824",
   "metadata": {},
   "outputs": [],
   "source": []
  },
  {
   "cell_type": "code",
   "execution_count": null,
   "id": "03e5e7bc",
   "metadata": {
    "scrolled": true
   },
   "outputs": [],
   "source": [
    "experiment = 'test'\n",
    "os.system('rm hotstuff.gen*')\n",
    "os.system('echo 3108 | sudo -S sh job_mini.sh '+ experiment)\n",
    "\n",
    "os.system('cp hotstuff.gen* ../../')"
   ]
  },
  {
   "cell_type": "code",
   "execution_count": null,
   "id": "381a0fd6",
   "metadata": {},
   "outputs": [],
   "source": [
    "import os\n",
    "os.system('cd ../../; git add .; git commit -m \"Testing\"; git push -f')"
   ]
  },
  {
   "cell_type": "code",
   "execution_count": null,
   "id": "ec213847",
   "metadata": {
    "scrolled": true
   },
   "outputs": [],
   "source": [
    "\n",
    "# # def setup_remote3(i):\n",
    "\n",
    "# #     ip = node_info_dict['publicIP'][i] \n",
    "# #     if ip!='None':\n",
    "# #         current = (ip.split('.'))\n",
    "# #         command = 'echo 3108 | sudo -S ssh -o StrictHostKeyChecking=no -i /home/tejas/Documents/'+node_info_dict['key_file'][i].strip()[1:-1]+' '+'ubuntu@ec2-'+str(current[0])+'-'\\\n",
    "# #                       +str(current[1])+'-'+str(current[2])+'-'+str(current[3])+'.'+node_info_dict['region'][i].strip()[1:-1]+'.compute.amazonaws.com -T \"sudo rm -r hotstuffO; git clone https://github.com/tmane002/hotstuffO.git;\"'\n",
    "# #         print(command)\n",
    "        \n",
    "# #         output = os.system(command)\n",
    "# #         print(output)\n",
    "\n",
    "\n",
    "# results = Parallel(n_jobs=len(list(node_info_dict['node_id'].keys())))(delayed(setup_remote)(i)\\\n",
    "#                                                                        for i in [9])#node_info_dict['node_id'])\n",
    "\n",
    "\n",
    "# print(results)  "
   ]
  },
  {
   "cell_type": "code",
   "execution_count": null,
   "id": "faa005d2",
   "metadata": {
    "scrolled": true
   },
   "outputs": [],
   "source": [
    "    \n",
    "results = Parallel(n_jobs=len(list(node_info_dict['node_id'].keys())))(delayed(setup_remote2)(i)\\\n",
    "                                                                       for i in node_info_dict['node_id'])\n",
    "\n",
    "\n",
    "print(results)  \n",
    "\n",
    "\n",
    "    \n",
    "# for i in node_info_dict['publicIP']:\n",
    "#     print(i)\n",
    "#     setup_remote2(i)"
   ]
  },
  {
   "cell_type": "code",
   "execution_count": null,
   "id": "002cbe0e",
   "metadata": {
    "scrolled": true
   },
   "outputs": [],
   "source": [
    "\n",
    "        \n",
    "def compile_remote(i):\n",
    "\n",
    "    ip = node_info_dict['publicIP'][i] \n",
    "    if ip!='None':\n",
    "        current = (ip.split('.'))\n",
    "        command = 'ssh -o StrictHostKeyChecking=no -i /home/tejas/Documents/'+node_info_dict['key_file'][i].strip()[1:-1]+' '+'ubuntu@ec2-'+str(current[0])+'-'\\\n",
    "                      +str(current[1])+'-'+str(current[2])+'-'+str(current[3])+'.'+node_info_dict['region'][i].strip()[1:-1]+'.compute.amazonaws.com -T \"cd hotstuffO; sudo nohup sh compile_job.sh >../make_job.out 2>&1 &\"'\n",
    "\n",
    "\n",
    "        output = os.system(command)\n",
    "        print(output)\n",
    "\n",
    "\n",
    "\n",
    "\n",
    "\n",
    "\n",
    "\n",
    "results = Parallel(n_jobs=len(list(node_info_dict['node_id'].keys())))(delayed(compile_remote)(i)\\\n",
    "                                                                       for i in list(node_info_dict['node_id'].keys()))\n",
    "\n",
    "\n",
    "print(results)  "
   ]
  },
  {
   "cell_type": "code",
   "execution_count": null,
   "id": "c3a05a63",
   "metadata": {},
   "outputs": [],
   "source": [
    "# def compile_remote(i):\n",
    "\n",
    "#     ip = node_info_dict['publicIP'][i] \n",
    "#     if ip!='None':\n",
    "#         current = (ip.split('.'))\n",
    "#         command = 'ssh -o StrictHostKeyChecking=no -i /home/tejas/Documents/'+node_info_dict['key_file'][i].strip()[1:-1]+' '+'ubuntu@ec2-'+str(current[0])+'-'\\\n",
    "#                       +str(current[1])+'-'+str(current[2])+'-'+str(current[3])+'.'+node_info_dict['region'][i].strip()[1:-1]+'.compute.amazonaws.com -T \"cd hotstuffO; sudo nohup sh compile_job.sh >../make_job.out 2>&1 &\"'\n",
    "\n",
    "\n",
    "# #         output = os.system(command)\n",
    "#         print(command)\n",
    "    \n",
    "    \n",
    "# for i in range(60):\n",
    "#     compile_remote(i)"
   ]
  },
  {
   "cell_type": "code",
   "execution_count": null,
   "id": "7acb4514",
   "metadata": {},
   "outputs": [],
   "source": [
    "time.sleep(240)"
   ]
  },
  {
   "cell_type": "code",
   "execution_count": null,
   "id": "aaeeb8c8",
   "metadata": {},
   "outputs": [],
   "source": [
    "\n",
    "\n",
    "\n",
    "results = Parallel(n_jobs=len(list(node_info_dict['node_id'].keys())))(delayed(clean_nodes_remote)(i)\\\n",
    "                                                                       for i in node_info_dict['node_id'])\n",
    "\n",
    "\n",
    "print(results)  \n"
   ]
  },
  {
   "cell_type": "code",
   "execution_count": null,
   "id": "1d89ac9d",
   "metadata": {},
   "outputs": [],
   "source": [
    "# node_info_dict"
   ]
  },
  {
   "cell_type": "code",
   "execution_count": null,
   "id": "2c0a764b",
   "metadata": {
    "scrolled": true
   },
   "outputs": [],
   "source": [
    "def run_server_node_remote(i):\n",
    "    ip = node_info_dict['publicIP'][i] \n",
    "#     if ip!='None' and( ip in nodeIps[:-3]):\n",
    "\n",
    "    if ip!='None' and node_info_dict['ServerOrClientregion'][i]==0:\n",
    "        \n",
    "        current = (ip.split('.'))\n",
    "        command = 'ssh  -o StrictHostKeyChecking=no -i /home/tejas/Documents/'+node_info_dict['key_file'][i].strip()[1:-1]+' '+'ubuntu@ec2-'+str(current[0])+'-'\\\n",
    "              +str(current[1])+'-'+str(current[2])+'-'+str(current[3])+'.'+node_info_dict['region'][i].strip()[1:-1]+'.compute.amazonaws.com  -T \"cd hotstuffO; sudo nohup ./examples/hotstuff-app --conf hotstuff.gen-sec'+str(node_info_dict['ServerID'][i])+'.conf >../nohup.out 2>&1 &\"'\n",
    "        \n",
    "        print(i,command)\n",
    "        os.system(command)\n",
    "        \n",
    "        \n",
    "results = Parallel(n_jobs=len(list(node_info_dict['node_id'].keys())))(delayed(run_server_node_remote)(i)\\\n",
    "                                                                       for i in node_info_dict['node_id'])\n",
    "\n",
    "print(results)  \n",
    "time.sleep(30)\n"
   ]
  },
  {
   "cell_type": "code",
   "execution_count": null,
   "id": "ec046d2b",
   "metadata": {},
   "outputs": [],
   "source": [
    "# for i in node_info_dict['publicIP']:\n",
    "#     kill_nodes_remote(i)"
   ]
  },
  {
   "cell_type": "code",
   "execution_count": null,
   "id": "3b25c3b0",
   "metadata": {},
   "outputs": [],
   "source": [
    "# def run_client_node_remote_print(i):\n",
    "#     ip = node_info_dict['publicIP'][i] \n",
    "\n",
    "#     if ip!='None' and node_info_dict['ServerOrClientregion'][i]==1:\n",
    "        \n",
    "#         current = (ip.split('.'))\n",
    "#         command = 'ssh  -o StrictHostKeyChecking=no -i /home/tejas/Documents/'+node_info_dict['key_file'][i].strip()[1:-1]+' '+'ubuntu@ec2-'+str(current[0])+'-'\\\n",
    "#               +str(current[1])+'-'+str(current[2])+'-'+str(current[3])+'.'+node_info_dict['region'][i].strip()[1:-1]+'.compute.amazonaws.com -T \"cd hotstuffO; sudo nohup ./examples/hotstuff-client --idx '+str(node_info_dict['clientID'][i])+' --iter -1 --max-async 5 >../nohup.out 2>&1 &\"'\n",
    "        \n",
    "#         print(command)\n",
    "\n",
    "# for i in node_info_dict['publicIP']:\n",
    "#     run_client_node_remote_print(i)"
   ]
  },
  {
   "cell_type": "code",
   "execution_count": null,
   "id": "d80bd54a",
   "metadata": {},
   "outputs": [],
   "source": [
    "# def run_server_node_remote(i):\n",
    "#     ip = node_info_dict['publicIP'][i] \n",
    "# #     if ip!='None' and( ip in nodeIps[:-3]):\n",
    "\n",
    "#     if ip!='None' and node_info_dict['ServerOrClientregion'][i]==0:\n",
    "        \n",
    "#         current = (ip.split('.'))\n",
    "#         command = 'ssh  -o StrictHostKeyChecking=no -i /home/tejas/Documents/'+node_info_dict['key_file'][i].strip()[1:-1]+' '+'ubuntu@ec2-'+str(current[0])+'-'\\\n",
    "#               +str(current[1])+'-'+str(current[2])+'-'+str(current[3])+'.'+node_info_dict['region'][i].strip()[1:-1]+'.compute.amazonaws.com  -T \"cd hotstuffO; sudo nohup ./examples/hotstuff-app --conf hotstuff.gen-sec'+str(node_info_dict['ServerID'][i])+'.conf >../nohup.out 2>&1 &\"'\n",
    "        \n",
    "#         print(i,command)\n",
    "# #         os.system(command)\n",
    "        \n",
    "# f\n",
    "        \n",
    "        "
   ]
  },
  {
   "cell_type": "code",
   "execution_count": null,
   "id": "2d4bd88c",
   "metadata": {},
   "outputs": [],
   "source": [
    "\n",
    "def run_client_node_remote(i):\n",
    "    ip = node_info_dict['publicIP'][i] \n",
    "\n",
    "    if ip!='None' and node_info_dict['ServerOrClientregion'][i]==1:\n",
    "        \n",
    "        current = (ip.split('.'))\n",
    "        command = 'ssh  -o StrictHostKeyChecking=no -i /home/tejas/Documents/'+node_info_dict['key_file'][i].strip()[1:-1]+' '+'ubuntu@ec2-'+str(current[0])+'-'\\\n",
    "              +str(current[1])+'-'+str(current[2])+'-'+str(current[3])+'.'+node_info_dict['region'][i].strip()[1:-1]+'.compute.amazonaws.com -T \"cd hotstuffO; sudo nohup ./examples/hotstuff-client --idx '+str(node_info_dict['clientID'][i])+' --iter -1 --max-async 120 >../nohup.out 2>&1 &\"'\n",
    "        \n",
    "        print(command)\n",
    "        os.system(command)\n",
    "\n",
    "\n",
    "\n",
    "\n",
    "    \n",
    "results = Parallel(n_jobs=len(list(node_info_dict['node_id'].keys())))(delayed(run_client_node_remote)(i)\\\n",
    "                                                                       for i in node_info_dict['node_id'])\n",
    "\n",
    "print(results)  \n",
    "\n",
    "    \n",
    "# for i in node_info_dict['publicIP']:\n",
    "#     run_client_node_remote(i)"
   ]
  },
  {
   "cell_type": "code",
   "execution_count": null,
   "id": "bf7935e0",
   "metadata": {},
   "outputs": [],
   "source": [
    "time.sleep(70)\n",
    "\n",
    "%%time\n",
    "\n",
    "kill_nodes_remote(7)\n",
    "\n",
    "\n",
    "time.sleep(10)\n",
    "\n",
    "%%time\n",
    "\n",
    "kill_nodes_remote(8)\n",
    "\n",
    "time.sleep(10)\n",
    "\n",
    "%%time\n",
    "\n",
    "kill_nodes_remote(9)\n",
    "\n",
    "time.sleep(10)\n",
    "\n",
    "%%time\n",
    "\n",
    "kill_nodes_remote(17)\n",
    "\n",
    "time.sleep(10)\n",
    "\n",
    "%%time\n",
    "\n",
    "kill_nodes_remote(18)\n",
    "\n",
    "time.sleep(10)\n",
    "\n",
    "%%time\n",
    "\n",
    "kill_nodes_remote(19)"
   ]
  },
  {
   "cell_type": "code",
   "execution_count": null,
   "id": "1f065511",
   "metadata": {},
   "outputs": [],
   "source": []
  },
  {
   "cell_type": "code",
   "execution_count": null,
   "id": "45fda9d8",
   "metadata": {
    "scrolled": true
   },
   "outputs": [],
   "source": [
    "\n",
    "    \n",
    "results = Parallel(n_jobs=len(list(node_info_dict['node_id'].keys())))(delayed(kill_nodes_remote)(i)\\\n",
    "                                                                       for i in node_info_dict['publicIP'])\n",
    "\n",
    "\n",
    "# for i in node_info_dict['publicIP']:\n",
    "#     print(i)\n",
    "#     kill_nodes_remote(i)"
   ]
  },
  {
   "cell_type": "code",
   "execution_count": null,
   "id": "2b4302c4",
   "metadata": {
    "scrolled": true
   },
   "outputs": [],
   "source": [
    "\n",
    "experiment = '../../hotstuff_experiments/non_leader_failures'\n",
    "\n",
    "if not os.path.exists(experiment):\n",
    "    os.mkdir(experiment)\n",
    "\n",
    "os.system('cd '+experiment+';rm *;cd ../; rm '+experiment+'.png')\n",
    "\n",
    "\n",
    "\n",
    "for i in node_info_dict['publicIP']:\n",
    "    ip = node_info_dict['publicIP'][i] \n",
    "    \n",
    "    if ip!='None' and node_info_dict['ServerOrClientregion'][i]==1:\n",
    "        current = (ip.split('.'))\n",
    "        command = 'scp -o StrictHostKeyChecking=no -i /home/tejas/Documents/'+node_info_dict['key_file'][i].strip()[1:-1]+' '+'ubuntu@ec2-'+str(current[0])+'-'\\\n",
    "              +str(current[1])+'-'+str(current[2])+'-'+str(current[3])+'.'+node_info_dict['region'][i].strip()[1:-1]+'.compute.amazonaws.com:/home/ubuntu/nohup.out '+experiment+'/nohup_client_'+str(node_info_dict['clientID'][i])+'.out'\n",
    "        print(command)\n",
    "        os.system(command)\n",
    "        \n",
    "        \n",
    "for i in node_info_dict['publicIP']:\n",
    "    ip = node_info_dict['publicIP'][i] \n",
    "\n",
    "    if ip!='None' and node_info_dict['ServerOrClientregion'][i]==0:\n",
    "        current = (ip.split('.'))\n",
    "        command = 'scp -o StrictHostKeyChecking=no -i /home/tejas/Documents/'+node_info_dict['key_file'][i].strip()[1:-1]+' '+'ubuntu@ec2-'+str(current[0])+'-'\\\n",
    "              +str(current[1])+'-'+str(current[2])+'-'+str(current[3])+'.'+node_info_dict['region'][i].strip()[1:-1]+'.compute.amazonaws.com:/home/ubuntu/nohup.out '+experiment+'/nohup_server_'+str(node_info_dict['ServerID'][i])+'.out'\n",
    "        print(command)\n",
    "        os.system(command)\n",
    "\n"
   ]
  },
  {
   "cell_type": "code",
   "execution_count": null,
   "id": "7b8a3dca",
   "metadata": {
    "scrolled": true
   },
   "outputs": [],
   "source": [
    "X,Y, lats = getThroughput(experiment)\n",
    "\n",
    "\n",
    "print(np.sum(Y)/len(Y), np.average(lats))"
   ]
  },
  {
   "cell_type": "code",
   "execution_count": null,
   "id": "841acbb9",
   "metadata": {},
   "outputs": [],
   "source": [
    "lats"
   ]
  },
  {
   "cell_type": "code",
   "execution_count": null,
   "id": "e6be5b68",
   "metadata": {},
   "outputs": [],
   "source": [
    "np.sum(Y)"
   ]
  },
  {
   "cell_type": "code",
   "execution_count": null,
   "id": "d61e0307",
   "metadata": {},
   "outputs": [],
   "source": [
    "s1, s2 = X[:-2],Y[:-2]"
   ]
  },
  {
   "cell_type": "code",
   "execution_count": null,
   "id": "34241154",
   "metadata": {},
   "outputs": [],
   "source": [
    "np.average(s2[60:90]),np.average(lats[-33:-3])"
   ]
  },
  {
   "cell_type": "code",
   "execution_count": null,
   "id": "072a88b5",
   "metadata": {},
   "outputs": [],
   "source": [
    "len(lats)"
   ]
  },
  {
   "cell_type": "code",
   "execution_count": null,
   "id": "a56b3bef",
   "metadata": {},
   "outputs": [],
   "source": [
    "\n",
    "\n",
    "\n",
    "fig = pl.figure(figsize = (12, 8))\n",
    "fig.patch.set_facecolor('white')\n",
    "pl.plot(s1,s2, '-*', label = 'optimized clusters based on latency')\n",
    "\n",
    "\n",
    "pl.legend()\n",
    "pl.xlabel('Time')\n",
    "pl.ylabel('Average Throughput (txn/sec)')\n",
    "# pl.title('HotStuff Multicluster: Throughput in Optimized Vs Non-Optimized Clusters')\n",
    "\n",
    "# pl.ylim(0,50)\n",
    "# pl.savefig('/home/tejas/Desktop/OptClusters.png', dpi =150, bbox_inches = 0 )\n",
    "pl.show()\n",
    "pl.clf()"
   ]
  },
  {
   "cell_type": "code",
   "execution_count": null,
   "id": "65bd5927",
   "metadata": {},
   "outputs": [],
   "source": [
    "# pl.figure(figsize = (12,8))\n",
    "# pl.rcParams.update({'font.size': 17})\n",
    "# fig.patch.set_facecolor('white')\n",
    "# pl.plot(s1,s2, '-*', label = 'Hotstuff-MC: Leader Failure')\n",
    "\n",
    "\n",
    "# pl.legend()\n",
    "# pl.xlabel('Time')\n",
    "# pl.ylabel('Throughput (txn/sec)')\n",
    "# # pl.title('HotStuff Multicluster: Throughput in Optimized Vs Non-Optimized Clusters')\n",
    "\n",
    "# # pl.ylim(0,50)\n",
    "# pl.savefig('/home/tejas/Desktop/LeaderFailure_HotStuffMC.png', dpi =150, bbox_inches = 0 )\n",
    "# pl.show()\n",
    "# pl.clf()"
   ]
  },
  {
   "cell_type": "code",
   "execution_count": null,
   "id": "a9d47f10",
   "metadata": {},
   "outputs": [],
   "source": [
    "pl.plot(lats)\n",
    "pl.ylim(0,0.2)"
   ]
  },
  {
   "cell_type": "code",
   "execution_count": null,
   "id": "f51c0902",
   "metadata": {},
   "outputs": [],
   "source": [
    "pl.plot(lats)\n",
    "# pl.ylim(0,0.6)"
   ]
  }
 ],
 "metadata": {
  "kernelspec": {
   "display_name": "Python 3 (ipykernel)",
   "language": "python",
   "name": "python3"
  },
  "language_info": {
   "codemirror_mode": {
    "name": "ipython",
    "version": 3
   },
   "file_extension": ".py",
   "mimetype": "text/x-python",
   "name": "python",
   "nbconvert_exporter": "python",
   "pygments_lexer": "ipython3",
   "version": "3.9.12"
  }
 },
 "nbformat": 4,
 "nbformat_minor": 5
}
